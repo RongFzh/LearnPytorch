{
 "cells": [
  {
   "cell_type": "code",
   "execution_count": 2,
   "metadata": {
    "collapsed": true,
    "pycharm": {
     "is_executing": false
    }
   },
   "outputs": [
    {
     "name": "stdout",
     "text": [
      "正则化 权重衰减\n"
     ],
     "output_type": "stream"
    }
   ],
   "source": [
    "print('正则化 权重衰减')"
   ]
  },
  {
   "cell_type": "code",
   "execution_count": 5,
   "outputs": [],
   "source": [
    "import numpy as np\n",
    "import torch\n",
    "from torch import nn\n",
    "import torch.nn.functional as F\n",
    "from torch.autograd import Variable\n",
    "from torchvision.datasets import CIFAR10\n",
    "from torch.utils.data import DataLoader\n",
    "from C5_CNN.utils import train, resnet\n",
    "from torchvision import transforms as tfs\n"
   ],
   "metadata": {
    "collapsed": false,
    "pycharm": {
     "name": "#%%\n",
     "is_executing": false
    }
   }
  },
  {
   "cell_type": "code",
   "execution_count": 8,
   "outputs": [
    {
     "name": "stderr",
     "text": [
      "E:\\PyProjects\\LearnPytorch\\C5_CNN\\utils.py:52: UserWarning: volatile was removed and now has no effect. Use `with torch.no_grad():` instead.\n  im = Variable(im.cuda(), volatile=True)\n",
      "E:\\PyProjects\\LearnPytorch\\C5_CNN\\utils.py:53: UserWarning: volatile was removed and now has no effect. Use `with torch.no_grad():` instead.\n  label = Variable(label.cuda(), volatile=True)\n"
     ],
     "output_type": "stream"
    },
    {
     "name": "stdout",
     "text": [
      "Epoch 0. Train Loss: 1.317861, Train Acc: 0.523333, Valid Loss: 1.217919, Valid Acc: 0.576577, Time 00:02:47",
      "\n",
      "Epoch 1. Train Loss: 0.864331, Train Acc: 0.695597, Valid Loss: 1.130721, Valid Acc: 0.616613, Time 00:03:02",
      "\n",
      "Epoch 2. Train Loss: 0.639231, Train Acc: 0.777211, Valid Loss: 0.736530, Valid Acc: 0.745507, Time 00:03:02",
      "\n",
      "Epoch 3. Train Loss: 0.479057, Train Acc: 0.834173, Valid Loss: 0.875897, Valid Acc: 0.716953, Time 00:03:02",
      "\n",
      "Epoch 4. Train Loss: 0.346473, Train Acc: 0.879539, Valid Loss: 0.769122, Valid Acc: 0.756789, Time 00:03:02",
      "\n",
      "Epoch 5. Train Loss: 0.241088, Train Acc: 0.918346, Valid Loss: 0.717290, Valid Acc: 0.776957, Time 00:03:01",
      "\n",
      "Epoch 6. Train Loss: 0.164306, Train Acc: 0.943278, Valid Loss: 0.831283, Valid Acc: 0.768570, Time 00:03:02",
      "\n",
      "Epoch 7. Train Loss: 0.122158, Train Acc: 0.958413, Valid Loss: 0.858527, Valid Acc: 0.778554, Time 00:03:06",
      "\n",
      "Epoch 8. Train Loss: 0.075071, Train Acc: 0.975668, Valid Loss: 0.952494, Valid Acc: 0.757188, Time 00:03:10",
      "\n",
      "Epoch 9. Train Loss: 0.062345, Train Acc: 0.979227, Valid Loss: 0.926700, Valid Acc: 0.781450, Time 00:03:13",
      "\n",
      "Epoch 10. Train Loss: 0.054819, Train Acc: 0.982446, Valid Loss: 0.834056, Valid Acc: 0.786342, Time 00:03:16",
      "\n",
      "Epoch 11. Train Loss: 0.044824, Train Acc: 0.986124, Valid Loss: 0.909881, Valid Acc: 0.783147, Time 00:03:13",
      "\n",
      "Epoch 12. Train Loss: 0.034315, Train Acc: 0.989083, Valid Loss: 0.870580, Valid Acc: 0.799221, Time 00:03:12",
      "\n",
      "Epoch 13. Train Loss: 0.024605, Train Acc: 0.992362, Valid Loss: 0.887423, Valid Acc: 0.796825, Time 00:03:11",
      "\n",
      "Epoch 14. Train Loss: 0.023187, Train Acc: 0.992882, Valid Loss: 0.886890, Valid Acc: 0.800220, Time 00:03:11",
      "\n",
      "Epoch 15. Train Loss: 0.017695, Train Acc: 0.994782, Valid Loss: 0.936689, Valid Acc: 0.795627, Time 00:03:11",
      "\n",
      "Epoch 16. Train Loss: 0.013238, Train Acc: 0.996461, Valid Loss: 0.879537, Valid Acc: 0.805511, Time 00:03:14",
      "\n",
      "Epoch 17. Train Loss: 0.010271, Train Acc: 0.997201, Valid Loss: 0.949227, Valid Acc: 0.797424, Time 00:03:09",
      "\n",
      "Epoch 18. Train Loss: 0.008657, Train Acc: 0.997701, Valid Loss: 0.885406, Valid Acc: 0.807009, Time 00:03:09",
      "\n",
      "Epoch 19. Train Loss: 0.005879, Train Acc: 0.998580, Valid Loss: 0.895594, Valid Acc: 0.808806, Time 00:03:07",
      "\n"
     ],
     "output_type": "stream"
    }
   ],
   "source": [
    "def data_tf(x):\n",
    "    im_aug = tfs.Compose([\n",
    "        tfs.Resize(96),\n",
    "        tfs.ToTensor(),\n",
    "        tfs.Normalize([0.5, 0.5, 0.5], [0.5, 0.5, 0.5])\n",
    "    ])\n",
    "    x = im_aug(x)\n",
    "    return x\n",
    "train_set = CIFAR10('../data', train=True, transform=data_tf)\n",
    "test_set = CIFAR10('../data', train=False, transform=data_tf)\n",
    "train_data = DataLoader(train_set, batch_size=32, shuffle=True)\n",
    "test_data = DataLoader(test_set, batch_size=32, shuffle=False)\n",
    "\n",
    "net = resnet(3, 10)\n",
    "optimizer = torch.optim.SGD(net.parameters(), lr=0.01, weight_decay=1e-4)\n",
    "criterion = nn.CrossEntropyLoss()\n",
    "\n",
    "train(net, train_data, test_data, 20, optimizer, criterion)\n"
   ],
   "metadata": {
    "collapsed": false,
    "pycharm": {
     "name": "#%%\n",
     "is_executing": false
    }
   }
  },
  {
   "cell_type": "code",
   "execution_count": null,
   "outputs": [],
   "source": [
    "\n"
   ],
   "metadata": {
    "collapsed": false,
    "pycharm": {
     "name": "#%%\n"
    }
   }
  }
 ],
 "metadata": {
  "kernelspec": {
   "display_name": "Python 3",
   "language": "python",
   "name": "python3"
  },
  "language_info": {
   "codemirror_mode": {
    "name": "ipython",
    "version": 2
   },
   "file_extension": ".py",
   "mimetype": "text/x-python",
   "name": "python",
   "nbconvert_exporter": "python",
   "pygments_lexer": "ipython2",
   "version": "2.7.6"
  },
  "pycharm": {
   "stem_cell": {
    "cell_type": "raw",
    "source": [],
    "metadata": {
     "collapsed": false
    }
   }
  }
 },
 "nbformat": 4,
 "nbformat_minor": 0
}