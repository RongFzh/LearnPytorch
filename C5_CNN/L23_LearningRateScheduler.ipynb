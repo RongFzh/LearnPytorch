{
 "cells": [
  {
   "cell_type": "code",
   "execution_count": 3,
   "metadata": {
    "collapsed": true,
    "pycharm": {
     "is_executing": false
    }
   },
   "outputs": [
    {
     "name": "stdout",
     "text": [
      "学习率衰减\n"
     ],
     "output_type": "stream"
    }
   ],
   "source": [
    "print('学习率衰减')\n",
    "\n"
   ]
  },
  {
   "cell_type": "code",
   "execution_count": 4,
   "outputs": [],
   "source": [
    "import numpy as np\n",
    "import torch\n",
    "from torch import nn\n",
    "import torch.nn.functional as F\n",
    "from torch.autograd import Variable\n",
    "from torchvision.datasets import CIFAR10\n",
    "from C5_CNN.utils import resnet\n",
    "from torchvision import transforms as tfs\n",
    "from datetime import datetime\n",
    "\n",
    "\n"
   ],
   "metadata": {
    "collapsed": false,
    "pycharm": {
     "name": "#%%\n",
     "is_executing": false
    }
   }
  },
  {
   "cell_type": "code",
   "execution_count": 5,
   "outputs": [],
   "source": [
    "net = resnet(3, 10)\n",
    "optimizer = torch.optim.SGD(net.parameters(), lr=1e-2, weight_decay=1e-4)\n"
   ],
   "metadata": {
    "collapsed": false,
    "pycharm": {
     "name": "#%%\n",
     "is_executing": false
    }
   }
  },
  {
   "cell_type": "code",
   "execution_count": 6,
   "outputs": [
    {
     "name": "stdout",
     "text": [
      "learning rate: 0.01\nweight decay: 0.0001\n"
     ],
     "output_type": "stream"
    }
   ],
   "source": [
    "# 访问参数组\n",
    "print('learning rate: {}'.format(optimizer.param_groups[0]['lr']))\n",
    "print('weight decay: {}'.format(optimizer.param_groups[0]['weight_decay']))\n",
    "\n"
   ],
   "metadata": {
    "collapsed": false,
    "pycharm": {
     "name": "#%%\n",
     "is_executing": false
    }
   }
  },
  {
   "cell_type": "code",
   "execution_count": 7,
   "outputs": [],
   "source": [
    "# 用循环来修改学习率\n",
    "def set_learning_rate(optimizer, lr):\n",
    "    for param_group in optimizer.param_groups:\n",
    "        param_group['lr'] = lr\n",
    "\n",
    "\n"
   ],
   "metadata": {
    "collapsed": false,
    "pycharm": {
     "name": "#%%\n",
     "is_executing": false
    }
   }
  },
  {
   "cell_type": "code",
   "execution_count": 8,
   "outputs": [],
   "source": [
    "#  使用数据增强\n",
    "def train_tf(x):\n",
    "    img_aug = tfs.Compose([\n",
    "        tfs.Resize(120),\n",
    "        tfs.RandomHorizontalFlip(),\n",
    "        tfs.RandomCrop(96),\n",
    "        tfs.ColorJitter(brightness=0.5, contrast=0.5, hue=0.5),\n",
    "        tfs.ToTensor(),\n",
    "        tfs.Normalize([0.5, 0.5, 0.5], [0.5, 0.5, 0.5])\n",
    "    ])\n",
    "    x = img_aug(x)\n",
    "    return x\n",
    "\n",
    "def test_tf(x):\n",
    "    im_aug =tfs.Compose([\n",
    "        tfs.Resize(96),\n",
    "        tfs.ToTensor(),\n",
    "        tfs.Normalize([0.5, 0.5, 0.5], [0.5, 0.5, 0.5])\n",
    "    ])\n",
    "    x = im_aug(x)\n",
    "    return x\n",
    "\n",
    "train_set = CIFAR10('../data', train=True, transform=train_tf)\n",
    "train_data = torch.utils.data.DataLoader(train_set, batch_size=16, shuffle=True, num_workers=4)\n",
    "valid_set = CIFAR10('../data', train=False, transform=test_tf)\n",
    "valid_data = torch.utils.data.DataLoader(valid_set, batch_size=16, shuffle=False, num_workers=4)\n",
    "\n",
    "net = resnet(3, 10)\n",
    "optimizer = torch.optim.SGD(net.parameters(), lr=0.1, weight_decay=1e-4)\n",
    "criterion = torch.nn.CrossEntropyLoss()\n",
    "\n",
    "\n"
   ],
   "metadata": {
    "collapsed": false,
    "pycharm": {
     "name": "#%%\n",
     "is_executing": false
    }
   }
  },
  {
   "cell_type": "code",
   "execution_count": 11,
   "outputs": [
    {
     "name": "stderr",
     "text": [
      "/home/rong/PycharmProjects/PyTorchTutorals/venv/lib/python3.6/site-packages/ipykernel_launcher.py:39: UserWarning: volatile was removed and now has no effect. Use `with torch.no_grad():` instead.\n/home/rong/PycharmProjects/PyTorchTutorals/venv/lib/python3.6/site-packages/ipykernel_launcher.py:40: UserWarning: volatile was removed and now has no effect. Use `with torch.no_grad():` instead.\n"
     ],
     "output_type": "stream"
    },
    {
     "name": "stdout",
     "text": [
      "Epoch 0. Train Loss: 1.042895, Valid Loss: 1.034408, Time 00:05:26\n",
      "Epoch 1. Train Loss: 0.918543, Valid Loss: 1.040510, Time 00:06:16\n",
      "Epoch 2. Train Loss: 0.845206, Valid Loss: 0.830556, Time 00:06:16\n",
      "Epoch 3. Train Loss: 0.787496, Valid Loss: 0.937584, Time 00:06:16\n",
      "Epoch 4. Train Loss: 0.736519, Valid Loss: 0.705696, Time 00:06:16\n",
      "Epoch 5. Train Loss: 0.692898, Valid Loss: 0.705906, Time 00:06:16\n",
      "Epoch 6. Train Loss: 0.667626, Valid Loss: 0.691745, Time 00:06:16\n",
      "Epoch 7. Train Loss: 0.639939, Valid Loss: 0.657443, Time 00:06:16\n",
      "Epoch 8. Train Loss: 0.609430, Valid Loss: 0.651851, Time 00:06:16\n",
      "Epoch 9. Train Loss: 0.588477, Valid Loss: 0.696674, Time 00:06:16\n",
      "Epoch 10. Train Loss: 0.569357, Valid Loss: 0.608400, Time 00:06:16\n",
      "Epoch 11. Train Loss: 0.547294, Valid Loss: 0.618299, Time 00:06:16\n",
      "Epoch 12. Train Loss: 0.534495, Valid Loss: 0.718645, Time 00:06:16\n",
      "Epoch 13. Train Loss: 0.515784, Valid Loss: 0.616882, Time 00:06:16\n",
      "Epoch 14. Train Loss: 0.503121, Valid Loss: 0.579025, Time 00:06:16\n",
      "Epoch 15. Train Loss: 0.487525, Valid Loss: 0.602793, Time 00:06:16\n",
      "Epoch 16. Train Loss: 0.478708, Valid Loss: 0.586511, Time 00:06:16\n",
      "Epoch 17. Train Loss: 0.464163, Valid Loss: 0.551888, Time 00:06:16\n",
      "Epoch 18. Train Loss: 0.460607, Valid Loss: 0.547675, Time 00:06:16\n",
      "Epoch 19. Train Loss: 0.446340, Valid Loss: 0.534549, Time 00:06:16\n",
      "Epoch 20. Train Loss: 0.330542, Valid Loss: 0.445738, Time 00:06:16\n",
      "Epoch 21. Train Loss: 0.290787, Valid Loss: 0.436635, Time 00:06:16\n",
      "Epoch 22. Train Loss: 0.277599, Valid Loss: 0.421470, Time 00:06:16\n",
      "Epoch 23. Train Loss: 0.264897, Valid Loss: 0.427290, Time 00:06:16\n",
      "Epoch 24. Train Loss: 0.256234, Valid Loss: 0.429029, Time 00:06:25\n",
      "Epoch 25. Train Loss: 0.248743, Valid Loss: 0.412420, Time 00:06:17\n",
      "Epoch 26. Train Loss: 0.241212, Valid Loss: 0.415967, Time 00:06:16\n",
      "Epoch 27. Train Loss: 0.229869, Valid Loss: 0.415772, Time 00:06:16\n",
      "Epoch 28. Train Loss: 0.222445, Valid Loss: 0.404888, Time 00:06:16\n",
      "Epoch 29. Train Loss: 0.217652, Valid Loss: 0.407365, Time 00:06:16\n"
     ],
     "output_type": "stream"
    }
   ],
   "source": [
    "# 使用学习率下降的训练过程\n",
    "train_losses = []\n",
    "valid_losses = []\n",
    "if torch.cuda.is_available():\n",
    "    net = net.cuda()\n",
    "prev_time = datetime.now()\n",
    "for epoch in range(30):\n",
    "    if epoch == 20:\n",
    "        set_learning_rate(optimizer, 0.01)\n",
    "    train_loss = 0\n",
    "    net = net.train()\n",
    "    for im, label in train_data:\n",
    "        if torch.cuda.is_available():\n",
    "            im = Variable(im.cuda()) # (bs, 3, h, w)\n",
    "            label = Variable(label.cuda()) #(bs, h, w)\n",
    "        else:\n",
    "            im = Variable(im)\n",
    "            label = Variable(label)\n",
    "        # forward\n",
    "        output = net(im)\n",
    "        loss = criterion(output, label)\n",
    "        # backward\n",
    "        optimizer.zero_grad()\n",
    "        loss.backward()\n",
    "        optimizer.step()\n",
    "        \n",
    "        train_loss += loss.item()\n",
    "        \n",
    "    cur_time = datetime.now()\n",
    "    h, remainder = divmod((cur_time - prev_time).seconds, 3600)\n",
    "    m, s = divmod(remainder, 60)\n",
    "    time_str = 'Time %02d:%02d:%02d'%(h, m, s)\n",
    "    # Valid \n",
    "    valid_loss = 0\n",
    "    valid_acc = 0\n",
    "    net = net.eval()\n",
    "    for im, label in valid_data:\n",
    "        if torch.cuda.is_available():\n",
    "            im = Variable(im.cuda(), volatile=True)\n",
    "            label = Variable(label.cuda(), volatile=True)\n",
    "        else:\n",
    "            im = Variable(im, volatile=True)\n",
    "            label = Variable(label, volatile=True)\n",
    "        output = net(im)\n",
    "        loss = criterion(output, label)\n",
    "        valid_loss += loss.item()\n",
    "    epoch_str = (\"Epoch %d. Train Loss: %f, Valid Loss: %f, \" \n",
    "        % (epoch, train_loss / len(train_data), valid_loss / len(valid_data)))\n",
    "    prev_time = cur_time\n",
    "    \n",
    "    train_losses.append(train_loss / len(train_data))\n",
    "    valid_losses.append(valid_loss / len(valid_data))\n",
    "    print(epoch_str + time_str)"
   ],
   "metadata": {
    "collapsed": false,
    "pycharm": {
     "name": "#%%\n",
     "is_executing": false
    }
   }
  },
  {
   "cell_type": "code",
   "execution_count": 13,
   "outputs": [
    {
     "name": "stderr",
     "text": [
      "/home/rong/PycharmProjects/PyTorchTutorals/venv/lib/python3.6/site-packages/ipykernel_launcher.py:37: UserWarning: volatile was removed and now has no effect. Use `with torch.no_grad():` instead.\n/home/rong/PycharmProjects/PyTorchTutorals/venv/lib/python3.6/site-packages/ipykernel_launcher.py:38: UserWarning: volatile was removed and now has no effect. Use `with torch.no_grad():` instead.\n"
     ],
     "output_type": "stream"
    },
    {
     "name": "stdout",
     "text": [
      "Epoch 0. Train Loss: 0.214309, Valid Loss: 0.409717, Time 00:05:24\n",
      "Epoch 1. Train Loss: 0.211966, Valid Loss: 0.404687, Time 00:06:18\n",
      "Epoch 2. Train Loss: 0.204345, Valid Loss: 0.405009, Time 00:06:17\n",
      "Epoch 3. Train Loss: 0.196487, Valid Loss: 0.399183, Time 00:06:17\n",
      "Epoch 4. Train Loss: 0.196535, Valid Loss: 0.418046, Time 00:06:16\n",
      "Epoch 5. Train Loss: 0.189401, Valid Loss: 0.395768, Time 00:06:22\n",
      "Epoch 6. Train Loss: 0.184644, Valid Loss: 0.394142, Time 00:06:24\n",
      "Epoch 7. Train Loss: 0.179963, Valid Loss: 0.397928, Time 00:06:24\n",
      "Epoch 8. Train Loss: 0.175424, Valid Loss: 0.408250, Time 00:06:39\n",
      "Epoch 9. Train Loss: 0.171820, Valid Loss: 0.398202, Time 00:06:22\n",
      "Epoch 10. Train Loss: 0.168875, Valid Loss: 0.402376, Time 00:06:18\n",
      "Epoch 11. Train Loss: 0.163697, Valid Loss: 0.388751, Time 00:06:18\n",
      "Epoch 12. Train Loss: 0.161776, Valid Loss: 0.391308, Time 00:06:18\n",
      "Epoch 13. Train Loss: 0.159828, Valid Loss: 0.402509, Time 00:06:14\n",
      "Epoch 14. Train Loss: 0.153621, Valid Loss: 0.421869, Time 00:06:14\n",
      "Epoch 15. Train Loss: 0.150361, Valid Loss: 0.401187, Time 00:06:14\n",
      "Epoch 16. Train Loss: 0.147317, Valid Loss: 0.409731, Time 00:06:14\n",
      "Epoch 17. Train Loss: 0.144731, Valid Loss: 0.412468, Time 00:06:13\n",
      "Epoch 18. Train Loss: 0.139629, Valid Loss: 0.417141, Time 00:06:13\n",
      "Epoch 19. Train Loss: 0.139042, Valid Loss: 0.417391, Time 00:06:13\n",
      "Epoch 20. Train Loss: 0.132803, Valid Loss: 0.400968, Time 00:06:13\n",
      "Epoch 21. Train Loss: 0.127698, Valid Loss: 0.412039, Time 00:06:14\n",
      "Epoch 22. Train Loss: 0.128565, Valid Loss: 0.410611, Time 00:06:13\n",
      "Epoch 23. Train Loss: 0.126005, Valid Loss: 0.420383, Time 00:06:13\n",
      "Epoch 24. Train Loss: 0.124529, Valid Loss: 0.416929, Time 00:06:13\n",
      "Epoch 25. Train Loss: 0.120774, Valid Loss: 0.407429, Time 00:06:13\n",
      "Epoch 26. Train Loss: 0.118524, Valid Loss: 0.423312, Time 00:06:13\n",
      "Epoch 27. Train Loss: 0.116086, Valid Loss: 0.424904, Time 00:06:13\n",
      "Epoch 28. Train Loss: 0.110861, Valid Loss: 0.421635, Time 00:06:13\n",
      "Epoch 29. Train Loss: 0.112401, Valid Loss: 0.432949, Time 00:06:19\n"
     ],
     "output_type": "stream"
    },
    {
     "data": {
      "text/plain": "<matplotlib.legend.Legend at 0x7f68d808de10>"
     },
     "metadata": {},
     "output_type": "execute_result",
     "execution_count": 13
    },
    {
     "data": {
      "text/plain": "<Figure size 432x288 with 1 Axes>",
      "image/png": "[encoded data removed]"
     },
     "metadata": {
      "needs_background": "light"
     },
     "output_type": "display_data"
    }
   ],
   "source": [
    "# 使用学习率恒定的训练过程\n",
    "train_losses = []\n",
    "valid_losses = []\n",
    "if torch.cuda.is_available():\n",
    "    net = net.cuda()\n",
    "prev_time = datetime.now()\n",
    "for epoch in range(30):\n",
    "    train_loss = 0\n",
    "    net = net.train()\n",
    "    for im, label in train_data:\n",
    "        if torch.cuda.is_available():\n",
    "            im = Variable(im.cuda()) # (bs, 3, h, w)\n",
    "            label = Variable(label.cuda()) #(bs, h, w)\n",
    "        else:\n",
    "            im = Variable(im)\n",
    "            label = Variable(label)\n",
    "        # forward\n",
    "        output = net(im)\n",
    "        loss = criterion(output, label)\n",
    "        # backward\n",
    "        optimizer.zero_grad()\n",
    "        loss.backward()\n",
    "        optimizer.step()\n",
    "        \n",
    "        train_loss += loss.item()\n",
    "        \n",
    "    cur_time = datetime.now()\n",
    "    h, remainder = divmod((cur_time - prev_time).seconds, 3600)\n",
    "    m, s = divmod(remainder, 60)\n",
    "    time_str = 'Time %02d:%02d:%02d'%(h, m, s)\n",
    "    # Valid \n",
    "    valid_loss = 0\n",
    "    valid_acc = 0\n",
    "    net = net.eval()\n",
    "    for im, label in valid_data:\n",
    "        if torch.cuda.is_available():\n",
    "            im = Variable(im.cuda(), volatile=True)\n",
    "            label = Variable(label.cuda(), volatile=True)\n",
    "        else:\n",
    "            im = Variable(im, volatile=True)\n",
    "            label = Variable(label, volatile=True)\n",
    "        output = net(im)\n",
    "        loss = criterion(output, label)\n",
    "        valid_loss += loss.item()\n",
    "    epoch_str = (\"Epoch %d. Train Loss: %f, Valid Loss: %f, \" \n",
    "        % (epoch, train_loss / len(train_data), valid_loss / len(valid_data)))\n",
    "    prev_time = cur_time\n",
    "    \n",
    "    train_losses.append(train_loss / len(train_data))\n",
    "    valid_losses.append(valid_loss / len(valid_data))\n",
    "    print(epoch_str + time_str)\n",
    "\n",
    "# 画出Loss曲线\n",
    "import matplotlib.pyplot as plt\n",
    "%matplotlib inline\n",
    "plt.plot(train_losses, label='train')\n",
    "plt.plot(valid_losses, label='valid')\n",
    "plt.xlabel('epoch')\n",
    "plt.legend(loc='best')\n",
    "# 画出Loss曲线\n",
    "import matplotlib.pyplot as plt\n",
    "%matplotlib inline\n",
    "plt.plot(train_losses, label='train')\n",
    "plt.plot(valid_losses, label='valid')\n",
    "plt.xlabel('epoch')\n",
    "plt.legend(loc='best')\n",
    "\n",
    "\n"
   ],
   "metadata": {
    "collapsed": false,
    "pycharm": {
     "name": "#%%\n",
     "is_executing": false
    }
   }
  },
  {
   "cell_type": "code",
   "execution_count": 14,
   "outputs": [
    {
     "name": "stderr",
     "text": [
      "/home/rong/PycharmProjects/PyTorchTutorals/venv/lib/python3.6/site-packages/ipykernel_launcher.py:40: UserWarning: volatile was removed and now has no effect. Use `with torch.no_grad():` instead.\n/home/rong/PycharmProjects/PyTorchTutorals/venv/lib/python3.6/site-packages/ipykernel_launcher.py:41: UserWarning: volatile was removed and now has no effect. Use `with torch.no_grad():` instead.\n"
     ],
     "output_type": "stream"
    },
    {
     "name": "stdout",
     "text": [
      "Epoch 0. Train Loss: 0.110595, Valid Loss: 0.439456, Time 00:05:31\n",
      "Epoch 1. Train Loss: 0.110258, Valid Loss: 0.430864, Time 00:06:25\n",
      "Epoch 2. Train Loss: 0.105953, Valid Loss: 0.410450, Time 00:06:23\n",
      "Epoch 3. Train Loss: 0.108151, Valid Loss: 0.419615, Time 00:06:27\n",
      "Epoch 4. Train Loss: 0.099423, Valid Loss: 0.439936, Time 00:06:21\n",
      "Epoch 5. Train Loss: 0.100512, Valid Loss: 0.436098, Time 00:06:17\n",
      "Epoch 6. Train Loss: 0.097347, Valid Loss: 0.442634, Time 00:06:16\n",
      "Epoch 7. Train Loss: 0.097028, Valid Loss: 0.434561, Time 00:06:16\n",
      "Epoch 8. Train Loss: 0.093876, Valid Loss: 0.441278, Time 00:06:17\n",
      "Epoch 9. Train Loss: 0.093036, Valid Loss: 0.446929, Time 00:06:16\n",
      "Epoch 10. Train Loss: 0.089393, Valid Loss: 0.444263, Time 00:06:16\n",
      "Epoch 11. Train Loss: 0.088375, Valid Loss: 0.437310, Time 00:06:16\n",
      "Epoch 12. Train Loss: 0.087819, Valid Loss: 0.441402, Time 00:06:16\n",
      "Epoch 13. Train Loss: 0.087922, Valid Loss: 0.443556, Time 00:06:16\n",
      "Epoch 14. Train Loss: 0.083129, Valid Loss: 0.441957, Time 00:06:16\n",
      "Epoch 15. Train Loss: 0.085195, Valid Loss: 0.438935, Time 00:06:16\n",
      "Epoch 16. Train Loss: 0.082642, Valid Loss: 0.451514, Time 00:06:16\n",
      "Epoch 17. Train Loss: 0.082651, Valid Loss: 0.433698, Time 00:06:16\n",
      "Epoch 18. Train Loss: 0.080393, Valid Loss: 0.447432, Time 00:06:16\n",
      "Epoch 19. Train Loss: 0.080431, Valid Loss: 0.442168, Time 00:06:16\n",
      "Epoch 20. Train Loss: 0.079664, Valid Loss: 0.469754, Time 00:06:16\n",
      "Epoch 21. Train Loss: 0.081833, Valid Loss: 0.450781, Time 00:06:16\n",
      "Epoch 22. Train Loss: 0.076970, Valid Loss: 0.455093, Time 00:06:16\n",
      "Epoch 23. Train Loss: 0.075900, Valid Loss: 0.449624, Time 00:06:18\n",
      "Epoch 24. Train Loss: 0.077643, Valid Loss: 0.478648, Time 00:06:18\n",
      "Epoch 25. Train Loss: 0.074698, Valid Loss: 0.485935, Time 00:06:23\n",
      "Epoch 26. Train Loss: 0.073710, Valid Loss: 0.459627, Time 00:06:21\n",
      "Epoch 27. Train Loss: 0.074633, Valid Loss: 0.451783, Time 00:06:20\n",
      "Epoch 28. Train Loss: 0.072151, Valid Loss: 0.446863, Time 00:06:19\n",
      "Epoch 29. Train Loss: 0.069787, Valid Loss: 0.448697, Time 00:06:18\n"
     ],
     "output_type": "stream"
    },
    {
     "data": {
      "text/plain": "<matplotlib.legend.Legend at 0x7f68d8057fd0>"
     },
     "metadata": {},
     "output_type": "execute_result",
     "execution_count": 14
    },
    {
     "data": {
      "text/plain": "<Figure size 432x288 with 1 Axes>",
      "image/png": "[encoded data removed]"
     },
     "metadata": {
      "needs_background": "light"
     },
     "output_type": "display_data"
    }
   ],
   "source": [
    "# 使用学习率恒定的训练过程\n",
    "train_losses = []\n",
    "valid_losses = []\n",
    "if torch.cuda.is_available():\n",
    "    net = net.cuda()\n",
    "prev_time = datetime.now()\n",
    "for epoch in range(30):\n",
    "    if epoch == 20:\n",
    "        set_learning_rate(optimizer, 0.01)\n",
    "    train_loss = 0\n",
    "    net = net.train()\n",
    "    for im, label in train_data:\n",
    "        if torch.cuda.is_available():\n",
    "            im = Variable(im.cuda()) # (bs, 3, h, w)\n",
    "            label = Variable(label.cuda()) #(bs, h, w)\n",
    "        else:\n",
    "            im = Variable(im)\n",
    "            label = Variable(label)\n",
    "        # forward\n",
    "        output = net(im)\n",
    "        loss = criterion(output, label)\n",
    "        # backward\n",
    "        optimizer.zero_grad()\n",
    "        loss.backward()\n",
    "        optimizer.step()\n",
    "        \n",
    "        train_loss += loss.item()\n",
    "        \n",
    "    cur_time = datetime.now()\n",
    "    h, remainder = divmod((cur_time - prev_time).seconds, 3600)\n",
    "    m, s = divmod(remainder, 60)\n",
    "    time_str = 'Time %02d:%02d:%02d'%(h, m, s)\n",
    "    # Valid \n",
    "    valid_loss = 0\n",
    "    valid_acc = 0\n",
    "    net = net.eval()\n",
    "    for im, label in valid_data:\n",
    "        with torch.no_grad():\n",
    "            if torch.cuda.is_available():\n",
    "                im = Variable(im.cuda(), volatile=True)\n",
    "                label = Variable(label.cuda(), volatile=True)\n",
    "            else:\n",
    "                im = Variable(im, volatile=True)\n",
    "                label = Variable(label, volatile=True)\n",
    "        output = net(im)\n",
    "        loss = criterion(output, label)\n",
    "        valid_loss += loss.item()\n",
    "    epoch_str = (\"Epoch %d. Train Loss: %f, Valid Loss: %f, \" \n",
    "        % (epoch, train_loss / len(train_data), valid_loss / len(valid_data)))\n",
    "    prev_time = cur_time\n",
    "    \n",
    "    train_losses.append(train_loss / len(train_data))\n",
    "    valid_losses.append(valid_loss / len(valid_data))\n",
    "    print(epoch_str + time_str)\n",
    "\n",
    "# 画出Loss曲线\n",
    "import matplotlib.pyplot as plt\n",
    "%matplotlib inline\n",
    "plt.plot(train_losses, label='train')\n",
    "plt.plot(valid_losses, label='valid')\n",
    "plt.xlabel('epoch')\n",
    "plt.legend(loc='best')\n",
    "# 画出Loss曲线\n",
    "import matplotlib.pyplot as plt\n",
    "%matplotlib inline\n",
    "plt.plot(train_losses, label='train')\n",
    "plt.plot(valid_losses, label='valid')\n",
    "plt.xlabel('epoch')\n",
    "plt.legend(loc='best')\n",
    "\n",
    "\n",
    "\n"
   ],
   "metadata": {
    "collapsed": false,
    "pycharm": {
     "name": "#%%\n",
     "is_executing": false
    }
   }
  },
  {
   "cell_type": "code",
   "execution_count": null,
   "outputs": [],
   "source": [
    "\n"
   ],
   "metadata": {
    "collapsed": false,
    "pycharm": {
     "name": "#%%\n"
    }
   }
  }
 ],
 "metadata": {
  "kernelspec": {
   "name": "pycharm-12c6a786",
   "language": "python",
   "display_name": "PyCharm (PyTorchTutorals)"
  },
  "language_info": {
   "codemirror_mode": {
    "name": "ipython",
    "version": 2
   },
   "file_extension": ".py",
   "mimetype": "text/x-python",
   "name": "python",
   "nbconvert_exporter": "python",
   "pygments_lexer": "ipython2",
   "version": "2.7.6"
  },
  "pycharm": {
   "stem_cell": {
    "cell_type": "raw",
    "source": [],
    "metadata": {
     "collapsed": false
    }
   }
  }
 },
 "nbformat": 4,
 "nbformat_minor": 0
}