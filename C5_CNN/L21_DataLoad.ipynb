{
 "cells": [
  {
   "cell_type": "code",
   "execution_count": 1,
   "metadata": {
    "collapsed": true,
    "pycharm": {
     "is_executing": false
    }
   },
   "outputs": [
    {
     "name": "stdout",
     "text": [
      "灵活的数据读取。\n"
     ],
     "output_type": "stream"
    }
   ],
   "source": [
    "print('灵活的数据读取。')\n",
    "\n"
   ]
  },
  {
   "cell_type": "code",
   "execution_count": 4,
   "outputs": [
    {
     "data": {
      "text/plain": "{'class_1': 0, 'class_2': 1, 'class_3': 2}"
     },
     "metadata": {},
     "output_type": "execute_result",
     "execution_count": 4
    }
   ],
   "source": [
    "# ImageFolder\n",
    "from torchvision.datasets import ImageFolder\n",
    "folder_set = ImageFolder('../data/example_data/image/')\n",
    "folder_set.class_to_idx\n"
   ],
   "metadata": {
    "collapsed": false,
    "pycharm": {
     "name": "#%%\n",
     "is_executing": false
    }
   }
  },
  {
   "cell_type": "code",
   "execution_count": 5,
   "outputs": [
    {
     "data": {
      "text/plain": "[('../data/example_data/image/class_1/1.png', 0),\n ('../data/example_data/image/class_1/2.png', 0),\n ('../data/example_data/image/class_1/3.png', 0),\n ('../data/example_data/image/class_2/10.png', 1),\n ('../data/example_data/image/class_2/11.png', 1),\n ('../data/example_data/image/class_2/12.png', 1),\n ('../data/example_data/image/class_3/16.png', 2),\n ('../data/example_data/image/class_3/17.png', 2),\n ('../data/example_data/image/class_3/18.png', 2)]"
     },
     "metadata": {},
     "output_type": "execute_result",
     "execution_count": 5
    }
   ],
   "source": [
    "folder_set.imgs\n",
    "\n"
   ],
   "metadata": {
    "collapsed": false,
    "pycharm": {
     "name": "#%%\n",
     "is_executing": false
    }
   }
  },
  {
   "cell_type": "code",
   "execution_count": 11,
   "outputs": [],
   "source": [
    "im, label = folder_set[0]\n"
   ],
   "metadata": {
    "collapsed": false,
    "pycharm": {
     "name": "#%%\n",
     "is_executing": false
    }
   }
  },
  {
   "cell_type": "code",
   "execution_count": 12,
   "outputs": [
    {
     "data": {
      "text/plain": "<PIL.Image.Image image mode=RGB size=32x32 at 0x7F852647BA20>",
      "image/png": "[encoded data removed]"
     },
     "metadata": {},
     "output_type": "execute_result",
     "execution_count": 12
    }
   ],
   "source": [
    "im\n",
    "\n"
   ],
   "metadata": {
    "collapsed": false,
    "pycharm": {
     "name": "#%%\n",
     "is_executing": false
    }
   }
  },
  {
   "cell_type": "code",
   "execution_count": 13,
   "outputs": [
    {
     "data": {
      "text/plain": "0"
     },
     "metadata": {},
     "output_type": "execute_result",
     "execution_count": 13
    }
   ],
   "source": [
    "label\n",
    "\n"
   ],
   "metadata": {
    "collapsed": false,
    "pycharm": {
     "name": "#%%\n",
     "is_executing": false
    }
   }
  },
  {
   "cell_type": "code",
   "execution_count": 14,
   "outputs": [],
   "source": [
    "# 加上预处理\n",
    "from torchvision import transforms as tfs\n",
    "data_tf = tfs.ToTensor()\n",
    "folder_set = ImageFolder('../data/example_data/image/', transform=data_tf)\n",
    "im, label = folder_set[0]\n",
    "\n"
   ],
   "metadata": {
    "collapsed": false,
    "pycharm": {
     "name": "#%%\n",
     "is_executing": false
    }
   }
  },
  {
   "cell_type": "code",
   "execution_count": 15,
   "outputs": [
    {
     "data": {
      "text/plain": "tensor([[[0.2314, 0.1686, 0.1961,  ..., 0.6196, 0.5961, 0.5804],\n         [0.0627, 0.0000, 0.0706,  ..., 0.4824, 0.4667, 0.4784],\n         [0.0980, 0.0627, 0.1922,  ..., 0.4627, 0.4706, 0.4275],\n         ...,\n         [0.8157, 0.7882, 0.7765,  ..., 0.6275, 0.2196, 0.2078],\n         [0.7059, 0.6784, 0.7294,  ..., 0.7216, 0.3804, 0.3255],\n         [0.6941, 0.6588, 0.7020,  ..., 0.8471, 0.5922, 0.4824]],\n\n        [[0.2431, 0.1804, 0.1882,  ..., 0.5176, 0.4902, 0.4863],\n         [0.0784, 0.0000, 0.0314,  ..., 0.3451, 0.3255, 0.3412],\n         [0.0941, 0.0275, 0.1059,  ..., 0.3294, 0.3294, 0.2863],\n         ...,\n         [0.6667, 0.6000, 0.6314,  ..., 0.5216, 0.1216, 0.1333],\n         [0.5451, 0.4824, 0.5647,  ..., 0.5804, 0.2431, 0.2078],\n         [0.5647, 0.5059, 0.5569,  ..., 0.7216, 0.4627, 0.3608]],\n\n        [[0.2471, 0.1765, 0.1686,  ..., 0.4235, 0.4000, 0.4039],\n         [0.0784, 0.0000, 0.0000,  ..., 0.2157, 0.1961, 0.2235],\n         [0.0824, 0.0000, 0.0314,  ..., 0.1961, 0.1961, 0.1647],\n         ...,\n         [0.3765, 0.1333, 0.1020,  ..., 0.2745, 0.0275, 0.0784],\n         [0.3765, 0.1647, 0.1176,  ..., 0.3686, 0.1333, 0.1333],\n         [0.4549, 0.3686, 0.3412,  ..., 0.5490, 0.3294, 0.2824]]])"
     },
     "metadata": {},
     "output_type": "execute_result",
     "execution_count": 15
    }
   ],
   "source": [
    "im"
   ],
   "metadata": {
    "collapsed": false,
    "pycharm": {
     "name": "#%%\n",
     "is_executing": false
    }
   }
  },
  {
   "cell_type": "code",
   "execution_count": 16,
   "outputs": [
    {
     "data": {
      "text/plain": "0"
     },
     "metadata": {},
     "output_type": "execute_result",
     "execution_count": 16
    }
   ],
   "source": [
    "label\n",
    "\n"
   ],
   "metadata": {
    "collapsed": false,
    "pycharm": {
     "name": "#%%\n",
     "is_executing": false
    }
   }
  },
  {
   "cell_type": "code",
   "execution_count": 17,
   "outputs": [
    {
     "data": {
      "text/plain": "9"
     },
     "metadata": {},
     "output_type": "execute_result",
     "execution_count": 17
    }
   ],
   "source": [
    "len(folder_set)\n",
    "\n"
   ],
   "metadata": {
    "collapsed": false,
    "pycharm": {
     "name": "#%%\n",
     "is_executing": false
    }
   }
  },
  {
   "cell_type": "code",
   "execution_count": 18,
   "outputs": [],
   "source": [
    "# DataSet\n",
    "from torch.utils.data import Dataset\n",
    "# 定义一个子类继承DataSet。\n",
    "\n",
    "\n",
    "class custom_dataset(Dataset):\n",
    "    def __init__(self, txt_path, transform=None):\n",
    "        self.transform = transform\n",
    "        with open(txt_path, 'r') as f:\n",
    "            lines = f.readlines()\n",
    "        \n",
    "        self.img_list = [i.split()[0] for i in lines] # 图像名称\n",
    "        self.label_list = [i.split()[1] for i in lines] # 所有的label\n",
    "        \n",
    "    def __getitem__(self, idx):\n",
    "        img = self.img_list[idx]\n",
    "        label = self.label_list[idx]\n",
    "        if self.transform is not None:\n",
    "            img = self.transform(img)\n",
    "        return img, label\n",
    "    \n",
    "    def __len__(self):\n",
    "        return len(self.label_list)\n",
    "    \n"
   ],
   "metadata": {
    "collapsed": false,
    "pycharm": {
     "name": "#%%\n",
     "is_executing": false
    }
   }
  },
  {
   "cell_type": "code",
   "execution_count": 21,
   "outputs": [
    {
     "name": "stdout",
     "text": [
      "1009_2.png\nYOU\n1046_7.png\nLIFE\n"
     ],
     "output_type": "stream"
    }
   ],
   "source": [
    "txt_dataset = custom_dataset('../data/example_data/train.txt')\n",
    "data, label = txt_dataset[0]\n",
    "print(data)\n",
    "print(label)\n",
    "\n",
    "data2, label2 = txt_dataset[34]\n",
    "print(data2)\n",
    "print(label2)"
   ],
   "metadata": {
    "collapsed": false,
    "pycharm": {
     "name": "#%%\n",
     "is_executing": false
    }
   }
  },
  {
   "cell_type": "code",
   "execution_count": 22,
   "outputs": [
    {
     "name": "stdout",
     "text": [
      "tensor([1, 0])\ntensor([2, 1])\ntensor([0, 2])\ntensor([1, 2])\ntensor([0])\n"
     ],
     "output_type": "stream"
    }
   ],
   "source": [
    "# DataLoader\n",
    "from torch.utils.data import DataLoader\n",
    "train_data1 = DataLoader(folder_set, batch_size=2, shuffle=True)\n",
    "for im, label in train_data1:\n",
    "    print(label)\n",
    "    \n",
    "\n",
    "\n"
   ],
   "metadata": {
    "collapsed": false,
    "pycharm": {
     "name": "#%%\n",
     "is_executing": false
    }
   }
  },
  {
   "cell_type": "code",
   "execution_count": 23,
   "outputs": [],
   "source": [
    "train_data2 = DataLoader(txt_dataset, 8, True)\n",
    "im, label = next(iter(train_data2))\n"
   ],
   "metadata": {
    "collapsed": false,
    "pycharm": {
     "name": "#%%\n",
     "is_executing": false
    }
   }
  },
  {
   "cell_type": "code",
   "execution_count": 24,
   "outputs": [
    {
     "data": {
      "text/plain": "('2464_5.png',\n '1053_3.png',\n '2192_9.png',\n '2609_6.png',\n '2192_2.png',\n '728_5.png',\n '681_5.png',\n '958_16.png')"
     },
     "metadata": {},
     "output_type": "execute_result",
     "execution_count": 24
    }
   ],
   "source": [
    "im\n",
    "\n"
   ],
   "metadata": {
    "collapsed": false,
    "pycharm": {
     "name": "#%%\n",
     "is_executing": false
    }
   }
  },
  {
   "cell_type": "code",
   "execution_count": null,
   "outputs": [],
   "source": [
    "\n"
   ],
   "metadata": {
    "collapsed": false,
    "pycharm": {
     "name": "#%%\n"
    }
   }
  }
 ],
 "metadata": {
  "kernelspec": {
   "display_name": "PyCharm (PyTorchTutorals)",
   "language": "python",
   "name": "pycharm-12c6a786"
  },
  "language_info": {
   "codemirror_mode": {
    "name": "ipython",
    "version": 2
   },
   "file_extension": ".py",
   "mimetype": "text/x-python",
   "name": "python",
   "nbconvert_exporter": "python",
   "pygments_lexer": "ipython2",
   "version": "2.7.6"
  },
  "pycharm": {
   "stem_cell": {
    "cell_type": "raw",
    "source": [],
    "metadata": {
     "collapsed": false
    }
   }
  }
 },
 "nbformat": 4,
 "nbformat_minor": 0
}